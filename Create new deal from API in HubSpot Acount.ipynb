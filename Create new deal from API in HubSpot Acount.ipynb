{
 "cells": [
  {
   "cell_type": "markdown",
   "id": "9732d1be",
   "metadata": {},
   "source": [
    "# Create a new deal record using HubSpot API"
   ]
  },
  {
   "cell_type": "markdown",
   "id": "db1d485d",
   "metadata": {},
   "source": [
    "#### Libraries"
   ]
  },
  {
   "cell_type": "code",
   "execution_count": null,
   "id": "f0f223d7",
   "metadata": {},
   "outputs": [],
   "source": [
    "# -*- coding: utf-8 -*-\n",
    "\"\"\"\n",
    "Created on Wed Mar  1 16:30:37 2023\n",
    "Create a new Deal Record\n",
    "@author: Marian Fuentes\n",
    "\"\"\"\n",
    "\n",
    "import requests\n",
    "import json\n"
   ]
  },
  {
   "cell_type": "markdown",
   "id": "cf3ac55a",
   "metadata": {},
   "source": [
    "#### Parameters"
   ]
  },
  {
   "cell_type": "code",
   "execution_count": null,
   "id": "804057f2",
   "metadata": {},
   "outputs": [],
   "source": [
    "\n",
    "url = 'https://api.hubapi.com/crm/v3/objects/deals' #Deals URL\n",
    "\n",
    "headers = {'accept': 'application/json',\n",
    "    'authorization': 'Bearer {}'.format('') #contains the format and authentication method\n",
    "}\n",
    "\n",
    "#Let's write some basic properties of deals such as amount, close date, deal name and deal stage.\n",
    "body= {\n",
    "    \"properties\": {\n",
    "                        \"amount\": \"100000\",\n",
    "                        \"closedate\": \"2023-03-07T16:50:00.678Z\",\n",
    "                        \"dealname\": \"My First Deal API\",\n",
    "                        \"dealstage\": \"appointmentscheduled\"\n",
    "  }\n",
    "} "
   ]
  },
  {
   "cell_type": "markdown",
   "id": "95de78a5",
   "metadata": {},
   "source": [
    "#### Call the API and create new deal record "
   ]
  },
  {
   "cell_type": "code",
   "execution_count": 1,
   "id": "3b4adc35",
   "metadata": {},
   "outputs": [
    {
     "name": "stdout",
     "output_type": "stream",
     "text": [
      "{'id': '12360304032', 'properties': {'amount': '100000', 'amount_in_home_currency': '100000', 'closedate': '2023-03-07T16:50:00.678Z', 'createdate': '2023-03-01T22:57:55.225Z', 'days_to_close': '5', 'dealname': 'My First Deal API', 'dealstage': 'appointmentscheduled', 'hs_closed_amount': '0', 'hs_closed_amount_in_home_currency': '0', 'hs_createdate': '2023-03-01T22:57:55.225Z', 'hs_deal_stage_probability_shadow': '0.1000000000000000055511151231257827021181583404541015625', 'hs_forecast_amount': '100000', 'hs_is_closed': 'false', 'hs_is_closed_won': 'false', 'hs_is_deal_split': 'false', 'hs_lastmodifieddate': '2023-03-01T22:57:55.225Z', 'hs_object_id': '12360304032', 'hs_projected_amount': '0', 'hs_projected_amount_in_home_currency': '0', 'pipeline': 'default'}, 'createdAt': '2023-03-01T22:57:55.225Z', 'updatedAt': '2023-03-01T22:57:55.225Z', 'archived': False}\n"
     ]
    }
   ],
   "source": [
    "response = requests.request('POST', url, headers = headers, json = body) #API call.\n",
    "jresponse = json.loads(response.text) #convert to JSON format\n",
    "print(jresponse)"
   ]
  },
  {
   "cell_type": "code",
   "execution_count": null,
   "id": "12d7b02d",
   "metadata": {},
   "outputs": [],
   "source": []
  }
 ],
 "metadata": {
  "kernelspec": {
   "display_name": "Python 3 (ipykernel)",
   "language": "python",
   "name": "python3"
  },
  "language_info": {
   "codemirror_mode": {
    "name": "ipython",
    "version": 3
   },
   "file_extension": ".py",
   "mimetype": "text/x-python",
   "name": "python",
   "nbconvert_exporter": "python",
   "pygments_lexer": "ipython3",
   "version": "3.9.13"
  }
 },
 "nbformat": 4,
 "nbformat_minor": 5
}
